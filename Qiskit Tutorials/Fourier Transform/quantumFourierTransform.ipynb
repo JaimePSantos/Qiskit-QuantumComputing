{
 "cells": [
  {
   "cell_type": "code",
   "execution_count": 22,
   "metadata": {},
   "outputs": [],
   "source": [
    "import numpy as np\n",
    "import matplotlib.pyplot as plt\n",
    "%matplotlib inline\n",
    "from math import pi,sqrt\n",
    "from qiskit.visualization import plot_histogram\n",
    "\n",
    "# importing Qiskit\n",
    "from qiskit import *"
   ]
  },
  {
   "cell_type": "markdown",
   "metadata": {},
   "source": [
    "## Quantum Fourier Transform\n"
   ]
  },
  {
   "cell_type": "markdown",
   "metadata": {},
   "source": [
    "### Introduction\n",
    "\n",
    "The quantum Fourier transform is the classical analogue to the direct Fourier transform (DFT). Similarly to the classical case, it is a very useful mathematical tool, and a building block in many quantum algorithms, such as quantum phase estimation, computing the discrete logarithm, and Shor's algorithm for factoring."
   ]
  },
  {
   "cell_type": "markdown",
   "metadata": {},
   "source": [
    "### Fourier Transform\n",
    "\n",
    "In modern science and engineering, the Fourier transform is essential for signal processing and communications.\n",
    "\n",
    "The FT allows us to extract the underlying periodic behaviour of a function, by decomposing it into its constituent frequencies.\n",
    "\n",
    "#### Example\n",
    "\n",
    "\n",
    "<img src=\"img/ft.png\" alt=\"Note: In order for images to show up in this jupyter notebook you need to select File => Trusted Notebook\" width=\"300 px\" align=\"center\">\n",
    "\n",
    "<sup>**a)** Take a sinusoidal signal with high frequency noise; **b)** Apply the Fourier transform, getting a frequency spectrum; **c)** After the high-frequency components are removed, the inverse Fourier transform may be applied to give a clean set of data.</sup>\n",
    "\n",
    "#### Discrete Fourier Transform\n",
    "\n",
    "The DFT is a version of the Fourier transform that works on discrete data sets.\n",
    "\n",
    "The discrete Fourier transform, $\\tilde{f}$ of a discrete function, $f = f_1 , \\cdots, f_N$ is given by\n",
    "\n",
    "$$ \\tilde{f}_k \\equiv \\frac{1}{\\sqrt{N}} \\sum^{N-1}_{j=0} e^{2\\pi ijk/N} f_j$$\n",
    "\n",
    "The inverse Fourier transform is expressed as\n",
    "\n",
    "$$ f_j \\equiv \\frac{1}{\\sqrt{N}} \\sum^{N-1}_{j=0} e^{-2\\pi ijk/N} \\tilde{f}_k$$\n",
    "\n",
    "With $f_j$ and $\\tilde{f}_k$ being complex numbers, and indices $j, k \\in \\{0, 1, \\cdots, N-1\\}$\n",
    "\n",
    "#### TASK\n",
    "\n",
    "Given $f_j = \\{1, 2\\}$, use the DFT to calculate $\\tilde{f}_k$"
   ]
  },
  {
   "cell_type": "markdown",
   "metadata": {},
   "source": [
    "### Quantum Fourier tranform\n",
    "\n",
    "Qubit states are represented by vectors of complex numbers, so it makes sense that the DFT can be applied to them.\n",
    "\n",
    "Given a state vector:\n",
    "\n",
    "$$ | \\psi \\rangle = \\sum^{N-1}_{j=0} a_j |j\\rangle = \\begin{pmatrix}\n",
    "a_0\\\\ \n",
    "\\vdots\\\\ \n",
    "a_{N-1}\n",
    "\\end{pmatrix}$$\n",
    "\n",
    "The DFT (which we will now call the quantum Fourier transform, or QFT) can be computed over the _amplitudes_ of the quantum state\n",
    "\n",
    "$$ \\sum_j \\alpha_j |j\\rangle \\rightarrow \\sum_k \\tilde{\\alpha}_k |k \\rangle$$ where:\n",
    "\n",
    "$$\\tilde{\\alpha}_k \\equiv \\frac{1}{\\sqrt{N}} \\sum^{N-1}_{j=0} e^{2\\pi ijk/N} \\alpha_k$$\n",
    "\n",
    "Is it possible to carry out this operation physically (i.e. is the QFT linear and unitary)?"
   ]
  },
  {
   "cell_type": "markdown",
   "metadata": {},
   "source": [
    "First, we observe that the amplitudes $\\tilde{\\alpha}_k$ are linear in the original $\\alpha_j$. So there is a linear operator $\\hat{F}$ which implements the transform.\n",
    "\n",
    "**Note**: Remember a linear operator $f$ must observe the following two properties:\n",
    "\n",
    "* Additivity: $f(x + y) = f(x) + f(y)$\n",
    "* Homogeneity: $f(\\alpha x) = \\alpha f(x)$ for all $\\alpha$\n",
    "\n",
    "We can write the matrix $\\hat{F}$ in outer product notation:\n",
    "\n",
    "$$\\hat{F} = \\sum_{j,k=0}^{N-1} \\frac{e^{2\\pi ijk/N}}{\\sqrt{N}} |k \\rangle \\langle j |$$\n"
   ]
  },
  {
   "cell_type": "markdown",
   "metadata": {},
   "source": [
    "#### TASK\n",
    "\n",
    "Check that $\\hat{F}$ is unitary, i.e. $\\hat{F}^\\dagger \\hat{F} = I$, where\n",
    "\n",
    "$$\\hat{F}^{\\dagger} = \\sum_{j',k'=0}^{N-1} \\frac{e^{-2\\pi ij'k'/N}}{\\sqrt{N}} |j' \\rangle \\langle k' | \\;,\\; \\hat{F} = \\sum_{j,k=0}^{N-1} \\frac{e^{2\\pi ijk/N}}{\\sqrt{N}} |k \\rangle \\langle j |$$"
   ]
  },
  {
   "cell_type": "markdown",
   "metadata": {},
   "source": [
    "#### Fourier basis\n",
    "\n",
    "The Fourier transform lets us define a new basis $|\\hat{x}\\rangle = \\hat{F}|x\\rangle$, where $\\{ |x\\rangle\\}$ is the usual computational basis - every vector $|\\hat{x}\\rangle$ is an equally weighted superposition of all the computational basis states.\n",
    "\n",
    "**Notes**: \n",
    "\n",
    "* From earlier classes, recall the change of basis for a single-qubit state. What operation may be performed to change it between the computational and superposition basis?\n",
    "\n",
    "* The Hadamard transform also turns computational basis states into equally weighted superpositions of all states. But it leaves all amplitudes real, while the amplitudes of $| \\tilde{x}\\rangle$ are complex. And it is its own inverse, while $\\hat{F} \\neq \\hat{F}^\\dagger$\n",
    "\n",
    "* In physics, the relationship of this basis to the computational basis is analogous to that between the _momentum_ and _position_ bases of a particle"
   ]
  },
  {
   "cell_type": "markdown",
   "metadata": {},
   "source": [
    "### QFT in the quantum circuit model of computation\n",
    "\n",
    "For the case of $n$ qubits, the vector dimension is $N=2^n$. Since the QFT is an unitary operator, it can be implemented in a quantum circuit.\n",
    "\n",
    "Although there is no guarantee that such a circuit would be efficient (i.e. would not scale exponentially with the number of qubits), an efficient circuit does exist.\n",
    "\n",
    "The key is to notice that the states $| \\hat{j} \\rangle$ can be written in a product form:\n",
    "\n",
    "* Let the binary expression for $j$ be $j_1 j_2 \\cdots j_n$, where:\n",
    "\n",
    "$$ j = j_1 2^{n-1} \\, +\\, j_2 2^{n-2} \\,+\\, \\cdots \\,+\\, j_n$$\n",
    "\n",
    "* Admit the following notation for binary fractions:\n",
    "\n",
    "$$ 0.j_1 j_2 \\cdots j_n = j_1 /2 + j_2 /4 + \\cdots + j_n /2^n$$\n",
    "\n",
    "* Then the state $|\\hat{j} \\rangle$ can be written as:\n",
    "\n",
    "$$ |\\hat{j} \\rangle  = \\frac{1}{2^n/2} (|0\\rangle + e^{2\\pi i 0.j_n }| 1\\rangle) \\, \\otimes \\, (|0\\rangle + e^{2\\pi i 0.j_{n-1}j_n }| 1\\rangle) \\, \\otimes \\, \\cdots \\, \\otimes \\, (|0\\rangle + e^{2\\pi i 0.j_1j_2\\cdots j_n }| 1\\rangle)$$\n",
    "\n",
    "\n",
    "A unitary that performs the transformation\n",
    "\n",
    "$$ |0\\rangle \\rightarrow \\frac {1}{\\sqrt{2}}(|0\\rangle + e^{i\\theta}|1\\rangle) \\; ;\\; |1\\rangle \\rightarrow \\frac {1}{\\sqrt{2}}(|0\\rangle - e^{i\\theta}|1\\rangle)$$\n",
    "\n",
    "may be decomposed into an Hadamard gate followed by a $Z$-rotation by $\\theta$.\n",
    "\n",
    "**However**, in the expression above, the rotation depends on the values of other bits. We can expect to build the QFT out of Hadamards and controlled-phase rotation gates.\n",
    "\n",
    "<img src=\"img/qft_circ.png\" alt=\"Note: In order for images to show up in this jupyter notebook you need to select File => Trusted Notebook\" width=\"700 px\" align=\"center\">\n"
   ]
  },
  {
   "cell_type": "markdown",
   "metadata": {},
   "source": [
    "**Phase-rotation gates**: In Qiskit, the phase rotation gate, $u1(\\lambda)$, is defined as:\n",
    "\n",
    "$$u1(\\lambda) = \\begin{pmatrix} 1 & 0\\\\ 0 & e^{i\\lambda} \\end{pmatrix}$$\n",
    "\n",
    "Admit $\\lambda = 2\\pi/2^k$ so that we can define a rotation operator:\n",
    "\n",
    "$$R_k = \\begin{pmatrix} 1 & 0\\\\ 0 & e^{2\\pi i /2^k} \\end{pmatrix}$$\n",
    "\n",
    "The controlled-$R_k$ gate performs this rotation only if a control qubit is $|1\\rangle$ rather than $|0\\rangle$:\n",
    "\n",
    "$$CR_k = \\begin{pmatrix} 1 & 0 & 0 & 0\\\\ 0 & 1 & 0 & 0\\\\ 0 & 0 & 1 & 0\\\\ 0 & 0 & 0 & e^{2\\pi i /2^k} \\end{pmatrix}$$"
   ]
  },
  {
   "cell_type": "markdown",
   "metadata": {},
   "source": [
    "**Atention**\n",
    "\n",
    "* In the figure above, notice the order of the input qubits (in comparison with Qiskit's circuit drawer);\n",
    "\n",
    "* Notice how after the QFT, the qubits of the transformed state are in reverse order. What can be done to correct this?"
   ]
  },
  {
   "cell_type": "markdown",
   "metadata": {},
   "source": [
    "### Implementing the QFT\n",
    "\n",
    "**TASK** : Implement a function `qftransform (circuit, qr, swap=True)` to perform the QFT over a register `qr`. The function should be able to ignore the swapping operations at the end when called with `swap=Flase`."
   ]
  },
  {
   "cell_type": "code",
   "execution_count": 3,
   "metadata": {},
   "outputs": [],
   "source": [
    "def qftransform (circuit,qr,swap=True):\n",
    "    n=qr.size\n",
    "    i=0\n",
    "    j=0\n",
    "    while i<n:\n",
    "        circuit.h(qr[i])\n",
    "        k=j\n",
    "        j=0\n",
    "        circuit.barrier()\n",
    "        while j<i:\n",
    "            circuit.cu1(2*pi/(2**j),qr[i],qr[k])\n",
    "            k-=1\n",
    "            j+=1\n",
    "        i+=1\n",
    "    return  circuit\n",
    "            \n",
    "    "
   ]
  },
  {
   "cell_type": "code",
   "execution_count": 4,
   "metadata": {},
   "outputs": [],
   "source": [
    "def qftransform1 (circuit,qr,swap=True):\n",
    "    n=qr.size\n",
    "    i=n-1\n",
    "    j=0\n",
    "    while i>=0:\n",
    "        circuit.barrier()\n",
    "        circuit.h(qr[i])\n",
    "        j=i\n",
    "        k=2\n",
    "        while j>0:\n",
    "            circuit.cu1(2*pi/(2**k),qr[i],qr[j-1])\n",
    "            j-=1\n",
    "            k+=1\n",
    "            \n",
    "        i-=1\n",
    "    \n",
    "    if(swap):\n",
    "        i=0\n",
    "        j=n-1\n",
    "        while i<(n//2):\n",
    "            circuit.swap(qr[i],qr[j])\n",
    "            i+=1\n",
    "            j-=1\n",
    "            \n",
    "    \n",
    "    return  circuit"
   ]
  },
  {
   "cell_type": "code",
   "execution_count": 31,
   "metadata": {},
   "outputs": [],
   "source": [
    "def input_state(circ, n):\n",
    "    \"\"\"special n-qubit input state for QFT that produces output 1.\"\"\"\n",
    "    for j in range(n):\n",
    "        circ.h(j)\n",
    "        circ.u1(-pi/float(2**(j)), j)\n",
    "        \n",
    "def qftransform2(circ, n):\n",
    "    \"\"\"n-qubit QFT on the qubits in circ.\"\"\"\n",
    "    for j in range(n):\n",
    "        circ.h(j)\n",
    "        for k in range(j+1,n):\n",
    "            circ.cu1(pi/float(2**(k-j)), k, j)\n",
    "        circ.barrier()\n",
    "    swap_registers(circ, n)\n",
    "    \n",
    "def swap_registers(circ, n):\n",
    "    for j in range(int(np.floor(n/2.))):\n",
    "        circ.swap(j, n-j-1)\n",
    "    return circ"
   ]
  },
  {
   "cell_type": "code",
   "execution_count": 32,
   "metadata": {},
   "outputs": [],
   "source": [
    "def input_state(circ, n):\n",
    "    \"\"\"special n-qubit input state for QFT that produces output 1.\"\"\"\n",
    "    for j in range(n):\n",
    "        circ.h(j)\n",
    "        circ.u1(-pi/float(2**(j)), j)"
   ]
  },
  {
   "cell_type": "code",
   "execution_count": 50,
   "metadata": {},
   "outputs": [
    {
     "data": {
      "image/png": "[encoded data removed]",
      "text/plain": [
       "<Figure size 539.392x144.48 with 1 Axes>"
      ]
     },
     "execution_count": 50,
     "metadata": {},
     "output_type": "execute_result"
    }
   ],
   "source": [
    "n=1\n",
    "reg=QuantumRegister(n)\n",
    "\n",
    "tf=QuantumCircuit(reg)\n",
    "input_state(tf,n)\n",
    "qftransform2(tf,n)\n",
    "\n",
    "\n",
    "\n",
    "\n",
    "\n",
    "tf.measure_all()\n",
    "tf.draw(output='mpl')\n"
   ]
  },
  {
   "cell_type": "code",
   "execution_count": 38,
   "metadata": {},
   "outputs": [
    {
     "data": {
      "image/png": "[encoded data removed]",
      "text/plain": [
       "<Figure size 504x360 with 1 Axes>"
      ]
     },
     "execution_count": 38,
     "metadata": {},
     "output_type": "execute_result"
    }
   ],
   "source": [
    "backend = Aer.get_backend('qasm_simulator')\n",
    "\n",
    "job_sim = execute(tf, backend=backend, shots=8192,)\n",
    "result_sim = job_sim.result()\n",
    "result_counts = result_sim.get_counts(tf)\n",
    "plot_histogram(result_counts)"
   ]
  },
  {
   "cell_type": "markdown",
   "metadata": {},
   "source": [
    "**TASK** : Implement the inverse QFT `iqftransform (circuit, qr, swap=True)`"
   ]
  },
  {
   "cell_type": "code",
   "execution_count": 40,
   "metadata": {},
   "outputs": [],
   "source": [
    "def qftransforminv (circuit,qr,swap=True):\n",
    "    n=qr.size\n",
    "    i=0\n",
    "    j=0\n",
    "    while i<n:\n",
    "      \n",
    "        k=2\n",
    "        j=0\n",
    "        circuit.barrier()\n",
    "        while j<i:\n",
    "            circuit.cu1(2*pi/(2**k),qr[i],qr[j])\n",
    "            k+=1\n",
    "            j+=1\n",
    "        circuit.h(qr[i])\n",
    "        i+=1\n",
    "    circuit.barrier()\n",
    "    if(swap):\n",
    "        i=0\n",
    "        j=n-1\n",
    "        while i<(n//2):\n",
    "            circuit.swap(qr[i],qr[j])\n",
    "            i+=1\n",
    "            j-=1\n",
    "            \n",
    "    \n",
    "    return  circuit"
   ]
  },
  {
   "cell_type": "code",
   "execution_count": 104,
   "metadata": {},
   "outputs": [],
   "source": [
    "def qft_dagger(circ, n):\n",
    "    \"\"\"n-qubit QFTdagger the first n qubits in circ\"\"\"\n",
    "    # Don't forget the Swaps!\n",
    "    for qubit in range(int(n/2)):\n",
    "        circ.swap(qubit, n-qubit-1)\n",
    "    for j in range(n,0,-1):\n",
    "        k = n - j\n",
    "        for m in range(k):\n",
    "            circ.cu1(-pi/float(2**(k-m)), n-m-1, n-k-1)\n",
    "        circ.h(n-k-1)\n",
    "    \n",
    "    circ.barrier()"
   ]
  },
  {
   "cell_type": "code",
   "execution_count": 106,
   "metadata": {},
   "outputs": [
    {
     "data": {
      "image/png": "[encoded data removed]",
      "text/plain": [
       "<Figure size 1403.86x325.08 with 1 Axes>"
      ]
     },
     "execution_count": 106,
     "metadata": {},
     "output_type": "execute_result"
    }
   ],
   "source": [
    "n=4\n",
    "qreg = QuantumRegister(n)\n",
    "cerg = ClassicalRegister(3)\n",
    "qpe = QuantumCircuit(qreg,cerg)\n",
    "qpe.x(3)\n",
    "\n",
    "for qubit in range(n-1):\n",
    "    qpe.h(qubit)\n",
    "    \n",
    "repetitions = 2**2\n",
    "for counting_qubit in range(3):\n",
    "    for i in range(repetitions):\n",
    "        qpe.cu1(pi/4, counting_qubit, 3); # This is C-U\n",
    "    repetitions //= 2\n",
    "\n",
    "qft_dagger(qpe,n-1)\n",
    "\n",
    "# We measure in reverse order to correct issues later\n",
    "qpe.measure(0,2)\n",
    "qpe.measure(1,1)\n",
    "qpe.measure(2,0)\n",
    "\n",
    "\n",
    "qpe.draw(output=\"mpl\")"
   ]
  },
  {
   "cell_type": "code",
   "execution_count": 107,
   "metadata": {},
   "outputs": [
    {
     "data": {
      "image/png": "[encoded data removed]",
      "text/plain": [
       "<Figure size 504x360 with 1 Axes>"
      ]
     },
     "execution_count": 107,
     "metadata": {},
     "output_type": "execute_result"
    }
   ],
   "source": [
    "backend = Aer.get_backend('qasm_simulator')\n",
    "shots = 2048\n",
    "results = execute(qpe, backend=backend, shots=shots).result()\n",
    "answer = results.get_counts()\n",
    "plot_histogram(answer)"
   ]
  },
  {
   "cell_type": "markdown",
   "metadata": {},
   "source": [
    "**Question**: How many controlled-$R_k$ gates are performed as a function of qubit number $n$? Does the circuit scale efficiently?"
   ]
  },
  {
   "cell_type": "markdown",
   "metadata": {},
   "source": [
    "### Period finding\n",
    "\n",
    "Admit a function $f(x)$ from $n$-bit numbers to $m$-bit numbers. Consider $f(x)$ periodic of period $r$, meaning that $\\forall x \\in \\{0,\\cdots,N-r-1\\}$, we have that $f(x) = f(x+r)$ and the values $f(x), f(x+1), \\cdots, f(x+r-1)$ are all distinct. Suppose also that $ r \\leq \\sqrt{N}/2$\n",
    "\n",
    "\n",
    "In a quantum algorithm, this function translates to an $n$-qubit input register and an $m$-qubit output register. We can prepare in the state:\n",
    "\n",
    "$$ | \\psi_0 \\rangle = \\frac{1}{\\sqrt{N}} \\sum_{x=0}^{2^n-1} | x\\rangle |0\\rangle$$\n",
    "\n",
    "Using $n$ Hadamard gates.\n",
    "\n",
    "We then apply a circuit that performs the unitary $\\hat{U}_f$:\n",
    "\n",
    "$$\\hat{U}_f | \\psi_0 \\rangle =\\frac{1}{\\sqrt{N}} \\sum_{x=0}^{2^n-1} | x\\rangle | f(x) \\rangle$$\n",
    "\n",
    "If we measure the output register _only_, we get a particular value $a$. The input register will be left in an evenly-weighted superposition of all $x$ such that $f(x) = a$:\n",
    "\n",
    "$$\\frac{1}{\\sqrt{N/r}} \\sum_{n=0}^{N/r-1} |x_0 + nr \\rangle | a \\rangle$$\n",
    "\n",
    "From now on, we will ignore the output register since the measurement has fixed its state.\n",
    "\n",
    "If we apply the QFT to the input register, we will gate a state in the form:\n",
    "\n",
    "$$\\sum_{m=0}^{r-1} \\alpha_m |m N/r\\rangle$$\n",
    "\n",
    "If we now measure the input register, we would get one value $mN/r$, for some random $m$ between $0$ and $r-1$.\n",
    "\n",
    "* This is not enough to tell us the value of $N/r$, but if we run the algorithm $d$ times, we will get a sequence of integers $m_1 N/r, \\cdots, m_d N/r$ which are all multiples of $N/r$.\n",
    "\n",
    "* For a sufficiently large number of runs $d$ (which grows moderately in $N$) we can be confident that, with high probability, $N/r$ is the only common factor of all the numbers."
   ]
  },
  {
   "cell_type": "code",
   "execution_count": 116,
   "metadata": {},
   "outputs": [],
   "source": [
    "import qiskit.aqua.components.qfts"
   ]
  },
  {
   "cell_type": "code",
   "execution_count": 118,
   "metadata": {},
   "outputs": [
    {
     "ename": "NameError",
     "evalue": "name 'construct_circuit' is not defined",
     "output_type": "error",
     "traceback": [
      "\u001b[1;31m---------------------------------------------------------------------------\u001b[0m",
      "\u001b[1;31mNameError\u001b[0m                                 Traceback (most recent call last)",
      "\u001b[1;32m<ipython-input-118-cac0f6b8ea6b>\u001b[0m in \u001b[0;36m<module>\u001b[1;34m\u001b[0m\n\u001b[1;32m----> 1\u001b[1;33m \u001b[0mconstruct_circuit\u001b[0m\u001b[1;33m(\u001b[0m\u001b[0mmode\u001b[0m\u001b[1;33m=\u001b[0m\u001b[1;34m'circuit'\u001b[0m\u001b[1;33m,\u001b[0m \u001b[0mqubits\u001b[0m\u001b[1;33m=\u001b[0m\u001b[1;32mNone\u001b[0m\u001b[1;33m,\u001b[0m \u001b[0mcircuit\u001b[0m\u001b[1;33m=\u001b[0m\u001b[1;32mNone\u001b[0m\u001b[1;33m,\u001b[0m \u001b[0mdo_swaps\u001b[0m\u001b[1;33m=\u001b[0m\u001b[1;32mTrue\u001b[0m\u001b[1;33m)\u001b[0m\u001b[1;33m\u001b[0m\u001b[1;33m\u001b[0m\u001b[0m\n\u001b[0m",
      "\u001b[1;31mNameError\u001b[0m: name 'construct_circuit' is not defined"
     ]
    }
   ],
   "source": [
    "construct_circuit(mode='circuit', qubits=None, circuit=None, do_swaps=True)"
   ]
  },
  {
   "cell_type": "code",
   "execution_count": null,
   "metadata": {},
   "outputs": [],
   "source": []
  }
 ],
 "metadata": {
  "anaconda-cloud": {},
  "kernelspec": {
   "display_name": "Python 3",
   "language": "python",
   "name": "python3"
  },
  "language_info": {
   "codemirror_mode": {
    "name": "ipython",
    "version": 3
   },
   "file_extension": ".py",
   "mimetype": "text/x-python",
   "name": "python",
   "nbconvert_exporter": "python",
   "pygments_lexer": "ipython3",
   "version": "3.7.4"
  },
  "latex_envs": {
   "bibliofile": "biblio.bib",
   "cite_by": "apalike",
   "current_citInitial": 1,
   "eqLabelWithNumbers": true,
   "eqNumInitial": 0
  },
  "nav_menu": {},
  "toc": {
   "navigate_menu": true,
   "number_sections": true,
   "sideBar": true,
   "threshold": 6,
   "toc_cell": false,
   "toc_section_display": "block",
   "toc_window_display": false
  }
 },
 "nbformat": 4,
 "nbformat_minor": 1
}
